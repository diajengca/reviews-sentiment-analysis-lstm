{
  "nbformat": 4,
  "nbformat_minor": 0,
  "metadata": {
    "kernelspec": {
      "display_name": "Python 3",
      "language": "python",
      "name": "python3"
    },
    "language_info": {
      "codemirror_mode": {
        "name": "ipython",
        "version": 3
      },
      "file_extension": ".py",
      "mimetype": "text/x-python",
      "name": "python",
      "nbconvert_exporter": "python",
      "pygments_lexer": "ipython3",
      "version": "3.7.6"
    },
    "colab": {
      "name": "try_gemastik_lstm.ipynb",
      "provenance": [],
      "collapsed_sections": [],
      "toc_visible": true
    }
  },
  "cells": [
    {
      "cell_type": "code",
      "metadata": {
        "id": "7omzCq_iMfP0"
      },
      "source": [
        "import numpy as np\n",
        "import pandas as pd\n",
        "from sklearn import preprocessing\n",
        "from sklearn.feature_extraction.text import CountVectorizer, TfidfVectorizer\n",
        "from sklearn.metrics import accuracy_score, confusion_matrix, plot_confusion_matrix, recall_score, precision_score\n",
        "from nltk.corpus import stopwords\n",
        "from nltk.stem.snowball import SnowballStemmer\n",
        "import matplotlib\n",
        "from matplotlib import pyplot as plt\n",
        "import seaborn as sns\n",
        "%matplotlib inline\n",
        "%config InlineBackend.figure_format = 'retina'\n",
        "import tensorflow as tf\n",
        "from tensorflow.keras.preprocessing.text import Tokenizer\n",
        "from tensorflow.keras.preprocessing.sequence import pad_sequences"
      ],
      "execution_count": 1,
      "outputs": []
    },
    {
      "cell_type": "markdown",
      "metadata": {
        "id": "sXnuDr2NMfP5"
      },
      "source": [
        "# Preprocessing"
      ]
    },
    {
      "cell_type": "markdown",
      "metadata": {
        "id": "zUfKMMXPMfP6"
      },
      "source": [
        "Load data"
      ]
    },
    {
      "cell_type": "code",
      "metadata": {
        "id": "JIT9XsZAxIg8",
        "outputId": "c924c2f8-bb24-4e32-9b34-bf537086f557",
        "colab": {
          "base_uri": "https://localhost:8080/",
          "height": 343
        }
      },
      "source": [
        "data = pd.read_csv(\"tagged_only_casefold_label.csv\")\n",
        "data.head(10)"
      ],
      "execution_count": 2,
      "outputs": [
        {
          "output_type": "execute_result",
          "data": {
            "text/html": [
              "<div>\n",
              "<style scoped>\n",
              "    .dataframe tbody tr th:only-of-type {\n",
              "        vertical-align: middle;\n",
              "    }\n",
              "\n",
              "    .dataframe tbody tr th {\n",
              "        vertical-align: top;\n",
              "    }\n",
              "\n",
              "    .dataframe thead th {\n",
              "        text-align: right;\n",
              "    }\n",
              "</style>\n",
              "<table border=\"1\" class=\"dataframe\">\n",
              "  <thead>\n",
              "    <tr style=\"text-align: right;\">\n",
              "      <th></th>\n",
              "      <th>Rating</th>\n",
              "      <th>Review</th>\n",
              "      <th>Name</th>\n",
              "      <th>Province</th>\n",
              "      <th>Type</th>\n",
              "      <th>cleanliness</th>\n",
              "      <th>service</th>\n",
              "      <th>accomodation</th>\n",
              "      <th>facility</th>\n",
              "      <th>crowd</th>\n",
              "    </tr>\n",
              "  </thead>\n",
              "  <tbody>\n",
              "    <tr>\n",
              "      <th>0</th>\n",
              "      <td>1</td>\n",
              "      <td>not sure if it was due to storms etc but it wa...</td>\n",
              "      <td>Sanur Beach</td>\n",
              "      <td>Bali</td>\n",
              "      <td>Alam</td>\n",
              "      <td>1</td>\n",
              "      <td>0</td>\n",
              "      <td>0</td>\n",
              "      <td>0</td>\n",
              "      <td>0</td>\n",
              "    </tr>\n",
              "    <tr>\n",
              "      <th>1</th>\n",
              "      <td>1</td>\n",
              "      <td>ship aground just off puri santrian sanur bali...</td>\n",
              "      <td>Sanur Beach</td>\n",
              "      <td>Bali</td>\n",
              "      <td>Alam</td>\n",
              "      <td>0</td>\n",
              "      <td>1</td>\n",
              "      <td>0</td>\n",
              "      <td>0</td>\n",
              "      <td>0</td>\n",
              "    </tr>\n",
              "    <tr>\n",
              "      <th>2</th>\n",
              "      <td>1</td>\n",
              "      <td>yes it is a cute little sleepy town with a who...</td>\n",
              "      <td>Sanur Beach</td>\n",
              "      <td>Bali</td>\n",
              "      <td>Alam</td>\n",
              "      <td>0</td>\n",
              "      <td>0</td>\n",
              "      <td>0</td>\n",
              "      <td>1</td>\n",
              "      <td>0</td>\n",
              "    </tr>\n",
              "    <tr>\n",
              "      <th>3</th>\n",
              "      <td>2</td>\n",
              "      <td>we have been here in the rainy season so the p...</td>\n",
              "      <td>Sanur Beach</td>\n",
              "      <td>Bali</td>\n",
              "      <td>Alam</td>\n",
              "      <td>1</td>\n",
              "      <td>0</td>\n",
              "      <td>0</td>\n",
              "      <td>0</td>\n",
              "      <td>0</td>\n",
              "    </tr>\n",
              "    <tr>\n",
              "      <th>4</th>\n",
              "      <td>2</td>\n",
              "      <td>this is where all the boats land its busy poll...</td>\n",
              "      <td>Sanur Beach</td>\n",
              "      <td>Bali</td>\n",
              "      <td>Alam</td>\n",
              "      <td>1</td>\n",
              "      <td>0</td>\n",
              "      <td>0</td>\n",
              "      <td>0</td>\n",
              "      <td>1</td>\n",
              "    </tr>\n",
              "    <tr>\n",
              "      <th>5</th>\n",
              "      <td>2</td>\n",
              "      <td>the beach itself isnt really much of a beach i...</td>\n",
              "      <td>Sanur Beach</td>\n",
              "      <td>Bali</td>\n",
              "      <td>Alam</td>\n",
              "      <td>0</td>\n",
              "      <td>0</td>\n",
              "      <td>0</td>\n",
              "      <td>1</td>\n",
              "      <td>0</td>\n",
              "    </tr>\n",
              "    <tr>\n",
              "      <th>6</th>\n",
              "      <td>2</td>\n",
              "      <td>generally crowded and disorganized areathere a...</td>\n",
              "      <td>Sanur Beach</td>\n",
              "      <td>Bali</td>\n",
              "      <td>Alam</td>\n",
              "      <td>0</td>\n",
              "      <td>1</td>\n",
              "      <td>3</td>\n",
              "      <td>0</td>\n",
              "      <td>1</td>\n",
              "    </tr>\n",
              "    <tr>\n",
              "      <th>7</th>\n",
              "      <td>2</td>\n",
              "      <td>sandy beach surrounded by restaurants and few ...</td>\n",
              "      <td>Sanur Beach</td>\n",
              "      <td>Bali</td>\n",
              "      <td>Alam</td>\n",
              "      <td>0</td>\n",
              "      <td>1</td>\n",
              "      <td>0</td>\n",
              "      <td>3</td>\n",
              "      <td>0</td>\n",
              "    </tr>\n",
              "    <tr>\n",
              "      <th>8</th>\n",
              "      <td>2</td>\n",
              "      <td>this one is average reasonably clean and yello...</td>\n",
              "      <td>Sanur Beach</td>\n",
              "      <td>Bali</td>\n",
              "      <td>Alam</td>\n",
              "      <td>3</td>\n",
              "      <td>1</td>\n",
              "      <td>0</td>\n",
              "      <td>0</td>\n",
              "      <td>0</td>\n",
              "    </tr>\n",
              "    <tr>\n",
              "      <th>9</th>\n",
              "      <td>2</td>\n",
              "      <td>nice beach but sadly lots of dog poo which is ...</td>\n",
              "      <td>Sanur Beach</td>\n",
              "      <td>Bali</td>\n",
              "      <td>Alam</td>\n",
              "      <td>1</td>\n",
              "      <td>0</td>\n",
              "      <td>0</td>\n",
              "      <td>0</td>\n",
              "      <td>0</td>\n",
              "    </tr>\n",
              "  </tbody>\n",
              "</table>\n",
              "</div>"
            ],
            "text/plain": [
              "   Rating                                             Review  ... facility crowd\n",
              "0       1  not sure if it was due to storms etc but it wa...  ...        0     0\n",
              "1       1  ship aground just off puri santrian sanur bali...  ...        0     0\n",
              "2       1  yes it is a cute little sleepy town with a who...  ...        1     0\n",
              "3       2  we have been here in the rainy season so the p...  ...        0     0\n",
              "4       2  this is where all the boats land its busy poll...  ...        0     1\n",
              "5       2  the beach itself isnt really much of a beach i...  ...        1     0\n",
              "6       2  generally crowded and disorganized areathere a...  ...        0     1\n",
              "7       2  sandy beach surrounded by restaurants and few ...  ...        3     0\n",
              "8       2  this one is average reasonably clean and yello...  ...        0     0\n",
              "9       2  nice beach but sadly lots of dog poo which is ...  ...        0     0\n",
              "\n",
              "[10 rows x 10 columns]"
            ]
          },
          "metadata": {
            "tags": []
          },
          "execution_count": 2
        }
      ]
    },
    {
      "cell_type": "markdown",
      "metadata": {
        "id": "l_8rAoNtMfQC"
      },
      "source": [
        "Stop words removal"
      ]
    },
    {
      "cell_type": "code",
      "metadata": {
        "id": "XUo0dOHTMfQD",
        "outputId": "7833599d-000b-4235-9a22-b49f1ea0ffad",
        "colab": {
          "base_uri": "https://localhost:8080/",
          "height": 378
        }
      },
      "source": [
        "import nltk\n",
        "nltk.download('stopwords')\n",
        "sw = stopwords.words('english')\n",
        "np.array(sw)\n",
        "def stopwords(text):\n",
        "    text = [word.lower() for word in text.split() if word.lower() not in sw]\n",
        "    return \" \".join(text)\n",
        "data['Review'] = data['Review'].apply(stopwords)\n",
        "data.head(10)"
      ],
      "execution_count": 3,
      "outputs": [
        {
          "output_type": "stream",
          "text": [
            "[nltk_data] Downloading package stopwords to /root/nltk_data...\n",
            "[nltk_data]   Unzipping corpora/stopwords.zip.\n"
          ],
          "name": "stdout"
        },
        {
          "output_type": "execute_result",
          "data": {
            "text/html": [
              "<div>\n",
              "<style scoped>\n",
              "    .dataframe tbody tr th:only-of-type {\n",
              "        vertical-align: middle;\n",
              "    }\n",
              "\n",
              "    .dataframe tbody tr th {\n",
              "        vertical-align: top;\n",
              "    }\n",
              "\n",
              "    .dataframe thead th {\n",
              "        text-align: right;\n",
              "    }\n",
              "</style>\n",
              "<table border=\"1\" class=\"dataframe\">\n",
              "  <thead>\n",
              "    <tr style=\"text-align: right;\">\n",
              "      <th></th>\n",
              "      <th>Rating</th>\n",
              "      <th>Review</th>\n",
              "      <th>Name</th>\n",
              "      <th>Province</th>\n",
              "      <th>Type</th>\n",
              "      <th>cleanliness</th>\n",
              "      <th>service</th>\n",
              "      <th>accomodation</th>\n",
              "      <th>facility</th>\n",
              "      <th>crowd</th>\n",
              "    </tr>\n",
              "  </thead>\n",
              "  <tbody>\n",
              "    <tr>\n",
              "      <th>0</th>\n",
              "      <td>1</td>\n",
              "      <td>sure due storms etc gross worth going kids hea...</td>\n",
              "      <td>Sanur Beach</td>\n",
              "      <td>Bali</td>\n",
              "      <td>Alam</td>\n",
              "      <td>1</td>\n",
              "      <td>0</td>\n",
              "      <td>0</td>\n",
              "      <td>0</td>\n",
              "      <td>0</td>\n",
              "    </tr>\n",
              "    <tr>\n",
              "      <th>1</th>\n",
              "      <td>1</td>\n",
              "      <td>ship aground puri santrian sanur bali see ship...</td>\n",
              "      <td>Sanur Beach</td>\n",
              "      <td>Bali</td>\n",
              "      <td>Alam</td>\n",
              "      <td>0</td>\n",
              "      <td>1</td>\n",
              "      <td>0</td>\n",
              "      <td>0</td>\n",
              "      <td>0</td>\n",
              "    </tr>\n",
              "    <tr>\n",
              "      <th>2</th>\n",
              "      <td>1</td>\n",
              "      <td>yes cute little sleepy town whole lot nothing ...</td>\n",
              "      <td>Sanur Beach</td>\n",
              "      <td>Bali</td>\n",
              "      <td>Alam</td>\n",
              "      <td>0</td>\n",
              "      <td>0</td>\n",
              "      <td>0</td>\n",
              "      <td>1</td>\n",
              "      <td>0</td>\n",
              "    </tr>\n",
              "    <tr>\n",
              "      <th>3</th>\n",
              "      <td>2</td>\n",
              "      <td>rainy season proof water quality could seen be...</td>\n",
              "      <td>Sanur Beach</td>\n",
              "      <td>Bali</td>\n",
              "      <td>Alam</td>\n",
              "      <td>1</td>\n",
              "      <td>0</td>\n",
              "      <td>0</td>\n",
              "      <td>0</td>\n",
              "      <td>0</td>\n",
              "    </tr>\n",
              "    <tr>\n",
              "      <th>4</th>\n",
              "      <td>2</td>\n",
              "      <td>boats land busy polluted noisy im sure would g...</td>\n",
              "      <td>Sanur Beach</td>\n",
              "      <td>Bali</td>\n",
              "      <td>Alam</td>\n",
              "      <td>1</td>\n",
              "      <td>0</td>\n",
              "      <td>0</td>\n",
              "      <td>0</td>\n",
              "      <td>1</td>\n",
              "    </tr>\n",
              "    <tr>\n",
              "      <th>5</th>\n",
              "      <td>2</td>\n",
              "      <td>beach isnt really much beach inlet theres surf...</td>\n",
              "      <td>Sanur Beach</td>\n",
              "      <td>Bali</td>\n",
              "      <td>Alam</td>\n",
              "      <td>0</td>\n",
              "      <td>0</td>\n",
              "      <td>0</td>\n",
              "      <td>1</td>\n",
              "      <td>0</td>\n",
              "    </tr>\n",
              "    <tr>\n",
              "      <th>6</th>\n",
              "      <td>2</td>\n",
              "      <td>generally crowded disorganized areathere many ...</td>\n",
              "      <td>Sanur Beach</td>\n",
              "      <td>Bali</td>\n",
              "      <td>Alam</td>\n",
              "      <td>0</td>\n",
              "      <td>1</td>\n",
              "      <td>3</td>\n",
              "      <td>0</td>\n",
              "      <td>1</td>\n",
              "    </tr>\n",
              "    <tr>\n",
              "      <th>7</th>\n",
              "      <td>2</td>\n",
              "      <td>sandy beach surrounded restaurants resorts unf...</td>\n",
              "      <td>Sanur Beach</td>\n",
              "      <td>Bali</td>\n",
              "      <td>Alam</td>\n",
              "      <td>0</td>\n",
              "      <td>1</td>\n",
              "      <td>0</td>\n",
              "      <td>3</td>\n",
              "      <td>0</td>\n",
              "    </tr>\n",
              "    <tr>\n",
              "      <th>8</th>\n",
              "      <td>2</td>\n",
              "      <td>one average reasonably clean yellow sand compa...</td>\n",
              "      <td>Sanur Beach</td>\n",
              "      <td>Bali</td>\n",
              "      <td>Alam</td>\n",
              "      <td>3</td>\n",
              "      <td>1</td>\n",
              "      <td>0</td>\n",
              "      <td>0</td>\n",
              "      <td>0</td>\n",
              "    </tr>\n",
              "    <tr>\n",
              "      <th>9</th>\n",
              "      <td>2</td>\n",
              "      <td>nice beach sadly lots dog poo shame little put...</td>\n",
              "      <td>Sanur Beach</td>\n",
              "      <td>Bali</td>\n",
              "      <td>Alam</td>\n",
              "      <td>1</td>\n",
              "      <td>0</td>\n",
              "      <td>0</td>\n",
              "      <td>0</td>\n",
              "      <td>0</td>\n",
              "    </tr>\n",
              "  </tbody>\n",
              "</table>\n",
              "</div>"
            ],
            "text/plain": [
              "   Rating                                             Review  ... facility crowd\n",
              "0       1  sure due storms etc gross worth going kids hea...  ...        0     0\n",
              "1       1  ship aground puri santrian sanur bali see ship...  ...        0     0\n",
              "2       1  yes cute little sleepy town whole lot nothing ...  ...        1     0\n",
              "3       2  rainy season proof water quality could seen be...  ...        0     0\n",
              "4       2  boats land busy polluted noisy im sure would g...  ...        0     1\n",
              "5       2  beach isnt really much beach inlet theres surf...  ...        1     0\n",
              "6       2  generally crowded disorganized areathere many ...  ...        0     1\n",
              "7       2  sandy beach surrounded restaurants resorts unf...  ...        3     0\n",
              "8       2  one average reasonably clean yellow sand compa...  ...        0     0\n",
              "9       2  nice beach sadly lots dog poo shame little put...  ...        0     0\n",
              "\n",
              "[10 rows x 10 columns]"
            ]
          },
          "metadata": {
            "tags": []
          },
          "execution_count": 3
        }
      ]
    },
    {
      "cell_type": "markdown",
      "metadata": {
        "id": "ut0x0qWaMfQG"
      },
      "source": [
        "Stemming"
      ]
    },
    {
      "cell_type": "code",
      "metadata": {
        "id": "tcXKNF34MfQG",
        "outputId": "ebb89e6f-96c3-4050-c1f6-56ceb7d8eb99",
        "colab": {
          "base_uri": "https://localhost:8080/",
          "height": 195
        }
      },
      "source": [
        "stemmer = SnowballStemmer(\"english\")\n",
        "def stemming(text):    \n",
        "    text = [stemmer.stem(word) for word in text.split()]\n",
        "    return \" \".join(text) \n",
        "data['Review'] = data['Review'].apply(stemming)\n",
        "data.head()"
      ],
      "execution_count": 4,
      "outputs": [
        {
          "output_type": "execute_result",
          "data": {
            "text/html": [
              "<div>\n",
              "<style scoped>\n",
              "    .dataframe tbody tr th:only-of-type {\n",
              "        vertical-align: middle;\n",
              "    }\n",
              "\n",
              "    .dataframe tbody tr th {\n",
              "        vertical-align: top;\n",
              "    }\n",
              "\n",
              "    .dataframe thead th {\n",
              "        text-align: right;\n",
              "    }\n",
              "</style>\n",
              "<table border=\"1\" class=\"dataframe\">\n",
              "  <thead>\n",
              "    <tr style=\"text-align: right;\">\n",
              "      <th></th>\n",
              "      <th>Rating</th>\n",
              "      <th>Review</th>\n",
              "      <th>Name</th>\n",
              "      <th>Province</th>\n",
              "      <th>Type</th>\n",
              "      <th>cleanliness</th>\n",
              "      <th>service</th>\n",
              "      <th>accomodation</th>\n",
              "      <th>facility</th>\n",
              "      <th>crowd</th>\n",
              "    </tr>\n",
              "  </thead>\n",
              "  <tbody>\n",
              "    <tr>\n",
              "      <th>0</th>\n",
              "      <td>1</td>\n",
              "      <td>sure due storm etc gross worth go kid heard mu...</td>\n",
              "      <td>Sanur Beach</td>\n",
              "      <td>Bali</td>\n",
              "      <td>Alam</td>\n",
              "      <td>1</td>\n",
              "      <td>0</td>\n",
              "      <td>0</td>\n",
              "      <td>0</td>\n",
              "      <td>0</td>\n",
              "    </tr>\n",
              "    <tr>\n",
              "      <th>1</th>\n",
              "      <td>1</td>\n",
              "      <td>ship aground puri santrian sanur bali see ship...</td>\n",
              "      <td>Sanur Beach</td>\n",
              "      <td>Bali</td>\n",
              "      <td>Alam</td>\n",
              "      <td>0</td>\n",
              "      <td>1</td>\n",
              "      <td>0</td>\n",
              "      <td>0</td>\n",
              "      <td>0</td>\n",
              "    </tr>\n",
              "    <tr>\n",
              "      <th>2</th>\n",
              "      <td>1</td>\n",
              "      <td>yes cute littl sleepi town whole lot noth beac...</td>\n",
              "      <td>Sanur Beach</td>\n",
              "      <td>Bali</td>\n",
              "      <td>Alam</td>\n",
              "      <td>0</td>\n",
              "      <td>0</td>\n",
              "      <td>0</td>\n",
              "      <td>1</td>\n",
              "      <td>0</td>\n",
              "    </tr>\n",
              "    <tr>\n",
              "      <th>3</th>\n",
              "      <td>2</td>\n",
              "      <td>raini season proof water qualiti could seen be...</td>\n",
              "      <td>Sanur Beach</td>\n",
              "      <td>Bali</td>\n",
              "      <td>Alam</td>\n",
              "      <td>1</td>\n",
              "      <td>0</td>\n",
              "      <td>0</td>\n",
              "      <td>0</td>\n",
              "      <td>0</td>\n",
              "    </tr>\n",
              "    <tr>\n",
              "      <th>4</th>\n",
              "      <td>2</td>\n",
              "      <td>boat land busi pollut noisi im sure would go u...</td>\n",
              "      <td>Sanur Beach</td>\n",
              "      <td>Bali</td>\n",
              "      <td>Alam</td>\n",
              "      <td>1</td>\n",
              "      <td>0</td>\n",
              "      <td>0</td>\n",
              "      <td>0</td>\n",
              "      <td>1</td>\n",
              "    </tr>\n",
              "  </tbody>\n",
              "</table>\n",
              "</div>"
            ],
            "text/plain": [
              "   Rating                                             Review  ... facility crowd\n",
              "0       1  sure due storm etc gross worth go kid heard mu...  ...        0     0\n",
              "1       1  ship aground puri santrian sanur bali see ship...  ...        0     0\n",
              "2       1  yes cute littl sleepi town whole lot noth beac...  ...        1     0\n",
              "3       2  raini season proof water qualiti could seen be...  ...        0     0\n",
              "4       2  boat land busi pollut noisi im sure would go u...  ...        0     1\n",
              "\n",
              "[5 rows x 10 columns]"
            ]
          },
          "metadata": {
            "tags": []
          },
          "execution_count": 4
        }
      ]
    },
    {
      "cell_type": "markdown",
      "metadata": {
        "id": "XQV9x8NIMfQN"
      },
      "source": [
        "# Hyperparameter"
      ]
    },
    {
      "cell_type": "code",
      "metadata": {
        "id": "2UFEreGgMfQP"
      },
      "source": [
        "vocab_size = 5000\n",
        "embedding_dim = 64\n",
        "max_length = 200\n",
        "trunc_type = 'post'\n",
        "padding_type = 'post'\n",
        "oov_tok = '<OOV>'\n",
        "training_portion = .8"
      ],
      "execution_count": 5,
      "outputs": []
    },
    {
      "cell_type": "markdown",
      "metadata": {
        "id": "WA2H4TSMMfQY"
      },
      "source": [
        "# Tokenizing"
      ]
    },
    {
      "cell_type": "code",
      "metadata": {
        "id": "ei_5OeDlMfQZ",
        "outputId": "c75133e0-afab-4210-ac2f-b783f808d945",
        "colab": {
          "base_uri": "https://localhost:8080/"
        }
      },
      "source": [
        "tokenizer = Tokenizer(num_words = vocab_size, oov_token=oov_tok)\n",
        "tokenizer.fit_on_texts(data['Review'])\n",
        "word_index = tokenizer.word_index\n",
        "dict(list(word_index.items())[0:10])"
      ],
      "execution_count": 6,
      "outputs": [
        {
          "output_type": "execute_result",
          "data": {
            "text/plain": [
              "{'<OOV>': 1,\n",
              " 'beach': 2,\n",
              " 'go': 8,\n",
              " 'good': 4,\n",
              " 'great': 7,\n",
              " 'hotel': 5,\n",
              " 'place': 3,\n",
              " 'room': 9,\n",
              " 'stay': 6,\n",
              " 'view': 10}"
            ]
          },
          "metadata": {
            "tags": []
          },
          "execution_count": 6
        }
      ]
    },
    {
      "cell_type": "code",
      "metadata": {
        "id": "E9wt_HEnMfQd",
        "outputId": "026ad716-7e55-4dd9-f613-e5ae1e5f720c",
        "colab": {
          "base_uri": "https://localhost:8080/"
        }
      },
      "source": [
        "review_sequences = tokenizer.texts_to_sequences(data['Review'])\n",
        "print('Contoh review yang sudah di-tokenizing:')\n",
        "print(review_sequences[0])"
      ],
      "execution_count": 7,
      "outputs": [
        {
          "output_type": "stream",
          "text": [
            "Contoh review yang sudah di-tokenizing:\n",
            "[115, 268, 2003, 354, 1810, 83, 8, 428, 668, 53, 287, 115, 144, 155, 501, 155, 107, 68, 11, 462, 35, 995, 564, 269, 194]\n"
          ],
          "name": "stdout"
        }
      ]
    },
    {
      "cell_type": "markdown",
      "metadata": {
        "id": "VOikNaryMfQg"
      },
      "source": [
        "Padding: supaya seluruh records review berukuran sama."
      ]
    },
    {
      "cell_type": "code",
      "metadata": {
        "id": "rejKLJs5MfQh",
        "outputId": "3abed0c8-c137-46c2-cd19-0189828043a9",
        "colab": {
          "base_uri": "https://localhost:8080/"
        }
      },
      "source": [
        "review_padded = pad_sequences(review_sequences, maxlen=max_length, padding=padding_type, truncating=trunc_type)\n",
        "review_padded"
      ],
      "execution_count": 8,
      "outputs": [
        {
          "output_type": "execute_result",
          "data": {
            "text/plain": [
              "array([[ 115,  268, 2003, ...,    0,    0,    0],\n",
              "       [1528, 3720, 1529, ...,    0,    0,    0],\n",
              "       [ 540, 1261,  110, ...,    0,    0,    0],\n",
              "       ...,\n",
              "       [   6,    3,  155, ...,    0,    0,    0],\n",
              "       [   7,    5,    4, ...,    0,    0,    0],\n",
              "       [ 591,   30,  157, ...,    0,    0,    0]], dtype=int32)"
            ]
          },
          "metadata": {
            "tags": []
          },
          "execution_count": 8
        }
      ]
    },
    {
      "cell_type": "markdown",
      "metadata": {
        "id": "MZcG2gAnMfQl"
      },
      "source": [
        "# Membuat data training & testing tiap-tiap aspek"
      ]
    },
    {
      "cell_type": "code",
      "metadata": {
        "id": "5eR_ym0rMfQm"
      },
      "source": [
        "train_size = int(len(review_padded) * training_portion)\n",
        "\n",
        "train_review = review_padded[0: train_size]\n",
        "test_review = review_padded[train_size:]\n",
        "\n",
        "train_cleanliness = data['cleanliness'][0: train_size]\n",
        "test_cleanliness = data['cleanliness'][train_size:]\n",
        "\n",
        "train_service = data['service'][0: train_size]\n",
        "test_service = data['service'][train_size:]\n",
        "\n",
        "train_accomodation = data['accomodation'][0: train_size]\n",
        "test_accomodation = data['accomodation'][train_size:]\n",
        "\n",
        "train_facility = data['facility'][0: train_size]\n",
        "test_facility = data['facility'][train_size:]\n",
        "\n",
        "train_crowd = data['crowd'][0: train_size]\n",
        "test_crowd = data['crowd'][train_size:]"
      ],
      "execution_count": 9,
      "outputs": []
    },
    {
      "cell_type": "markdown",
      "metadata": {
        "id": "PBcFgJmkMfQp"
      },
      "source": [
        "# LSTM - for each aspect"
      ]
    },
    {
      "cell_type": "code",
      "metadata": {
        "id": "Cn2N9W7FMfQr",
        "outputId": "97218daf-4226-487a-899c-bac758344df1",
        "colab": {
          "base_uri": "https://localhost:8080/"
        }
      },
      "source": [
        "model_cleanliness = tf.keras.Sequential([\n",
        "    # Add an Embedding layer expecting input vocab of size 5000, and output embedding dimension of size 64 we set at the top\n",
        "    tf.keras.layers.Embedding(vocab_size, embedding_dim),\n",
        "    tf.keras.layers.Bidirectional(tf.keras.layers.LSTM(embedding_dim)),\n",
        "#   tf.keras.layers.Bidirectional(tf.keras.layers.LSTM(32)),\n",
        "    # use ReLU in place of tanh function since they are very good alternatives of each other.\n",
        "    tf.keras.layers.Dense(embedding_dim, activation='relu'),\n",
        "    # Add a Dense layer with 6 units and softmax activation.\n",
        "    # When we have multiple outputs, softmax convert outputs layers into a probability distribution.\n",
        "    tf.keras.layers.Dense(4, activation='softmax')\n",
        "])\n",
        "model_cleanliness.summary()"
      ],
      "execution_count": 10,
      "outputs": [
        {
          "output_type": "stream",
          "text": [
            "Model: \"sequential\"\n",
            "_________________________________________________________________\n",
            "Layer (type)                 Output Shape              Param #   \n",
            "=================================================================\n",
            "embedding (Embedding)        (None, None, 64)          320000    \n",
            "_________________________________________________________________\n",
            "bidirectional (Bidirectional (None, 128)               66048     \n",
            "_________________________________________________________________\n",
            "dense (Dense)                (None, 64)                8256      \n",
            "_________________________________________________________________\n",
            "dense_1 (Dense)              (None, 4)                 260       \n",
            "=================================================================\n",
            "Total params: 394,564\n",
            "Trainable params: 394,564\n",
            "Non-trainable params: 0\n",
            "_________________________________________________________________\n"
          ],
          "name": "stdout"
        }
      ]
    },
    {
      "cell_type": "code",
      "metadata": {
        "id": "dNvd48OdMfQu",
        "outputId": "1af7f89d-f5c1-452c-8793-1e0e676ffc9b",
        "colab": {
          "base_uri": "https://localhost:8080/"
        }
      },
      "source": [
        "model_cleanliness.compile(loss='sparse_categorical_crossentropy', optimizer='adam', metrics=['accuracy'])\n",
        "num_epochs = 10\n",
        "model_cleanliness.fit(train_review, train_cleanliness, epochs=num_epochs, validation_data=(test_review, test_cleanliness), verbose=2)"
      ],
      "execution_count": 11,
      "outputs": [
        {
          "output_type": "stream",
          "text": [
            "Epoch 1/10\n",
            "53/53 - 11s - loss: 0.8145 - accuracy: 0.7907 - val_loss: 0.8504 - val_accuracy: 0.7249\n",
            "Epoch 2/10\n",
            "53/53 - 10s - loss: 0.6013 - accuracy: 0.7996 - val_loss: 0.8153 - val_accuracy: 0.7344\n",
            "Epoch 3/10\n",
            "53/53 - 10s - loss: 0.4107 - accuracy: 0.8433 - val_loss: 0.8416 - val_accuracy: 0.7464\n",
            "Epoch 4/10\n",
            "53/53 - 10s - loss: 0.2449 - accuracy: 0.9145 - val_loss: 0.8933 - val_accuracy: 0.7201\n",
            "Epoch 5/10\n",
            "53/53 - 10s - loss: 0.1217 - accuracy: 0.9617 - val_loss: 1.0783 - val_accuracy: 0.7656\n",
            "Epoch 6/10\n",
            "53/53 - 11s - loss: 0.0775 - accuracy: 0.9809 - val_loss: 1.4806 - val_accuracy: 0.7440\n",
            "Epoch 7/10\n",
            "53/53 - 10s - loss: 0.0582 - accuracy: 0.9833 - val_loss: 1.2166 - val_accuracy: 0.7488\n",
            "Epoch 8/10\n",
            "53/53 - 10s - loss: 0.0316 - accuracy: 0.9892 - val_loss: 1.1864 - val_accuracy: 0.7632\n",
            "Epoch 9/10\n",
            "53/53 - 10s - loss: 0.0227 - accuracy: 0.9928 - val_loss: 1.4079 - val_accuracy: 0.7703\n",
            "Epoch 10/10\n",
            "53/53 - 10s - loss: 0.0202 - accuracy: 0.9952 - val_loss: 1.3189 - val_accuracy: 0.7632\n"
          ],
          "name": "stdout"
        },
        {
          "output_type": "execute_result",
          "data": {
            "text/plain": [
              "<tensorflow.python.keras.callbacks.History at 0x7f102c042e10>"
            ]
          },
          "metadata": {
            "tags": []
          },
          "execution_count": 11
        }
      ]
    },
    {
      "cell_type": "code",
      "metadata": {
        "id": "XdrRofNqIqwe",
        "outputId": "2ba9825e-ce03-481e-a39c-86b88ae960b3",
        "colab": {
          "base_uri": "https://localhost:8080/"
        }
      },
      "source": [
        "score = model_cleanliness.evaluate(test_review, test_cleanliness, verbose=1)\n",
        "\n",
        "print(\"Test Score:\", score[0])\n",
        "print(\"Test Accuracy:\", score[1])"
      ],
      "execution_count": 12,
      "outputs": [
        {
          "output_type": "stream",
          "text": [
            "14/14 [==============================] - 1s 37ms/step - loss: 1.3189 - accuracy: 0.7632\n",
            "Test Score: 1.318856954574585\n",
            "Test Accuracy: 0.7631579041481018\n"
          ],
          "name": "stdout"
        }
      ]
    },
    {
      "cell_type": "code",
      "metadata": {
        "id": "x893npZrMfQy",
        "outputId": "d029d804-2f17-4dcb-d0bf-75dc167369b2",
        "colab": {
          "base_uri": "https://localhost:8080/"
        }
      },
      "source": [
        "model_service = tf.keras.Sequential([\n",
        "    # Add an Embedding layer expecting input vocab of size 5000, and output embedding dimension of size 64 we set at the top\n",
        "    tf.keras.layers.Embedding(vocab_size, embedding_dim),\n",
        "    tf.keras.layers.Bidirectional(tf.keras.layers.LSTM(embedding_dim)),\n",
        "#    tf.keras.layers.Bidirectional(tf.keras.layers.LSTM(32)),\n",
        "    # use ReLU in place of tanh function since they are very good alternatives of each other.\n",
        "    tf.keras.layers.Dense(embedding_dim, activation='relu'),\n",
        "    # Add a Dense layer with 6 units and softmax activation.\n",
        "    # When we have multiple outputs, softmax convert outputs layers into a probability distribution.\n",
        "    tf.keras.layers.Dense(4, activation='softmax')\n",
        "])\n",
        "\n",
        "model_service.compile(loss='sparse_categorical_crossentropy', optimizer='adam', metrics=['accuracy'])\n",
        "num_epochs = 10\n",
        "model_service.fit(train_review, train_service, epochs=num_epochs, validation_data=(test_review, test_service), verbose=2)"
      ],
      "execution_count": 13,
      "outputs": [
        {
          "output_type": "stream",
          "text": [
            "Epoch 1/10\n",
            "53/53 - 12s - loss: 1.1690 - accuracy: 0.5299 - val_loss: 1.2084 - val_accuracy: 0.1818\n",
            "Epoch 2/10\n",
            "53/53 - 11s - loss: 0.9477 - accuracy: 0.6005 - val_loss: 0.9109 - val_accuracy: 0.5789\n",
            "Epoch 3/10\n",
            "53/53 - 10s - loss: 0.6368 - accuracy: 0.7614 - val_loss: 0.9934 - val_accuracy: 0.5909\n",
            "Epoch 4/10\n",
            "53/53 - 10s - loss: 0.4390 - accuracy: 0.8397 - val_loss: 0.9453 - val_accuracy: 0.6435\n",
            "Epoch 5/10\n",
            "53/53 - 10s - loss: 0.2857 - accuracy: 0.8965 - val_loss: 0.8754 - val_accuracy: 0.7273\n",
            "Epoch 6/10\n",
            "53/53 - 10s - loss: 0.1807 - accuracy: 0.9342 - val_loss: 1.0447 - val_accuracy: 0.7536\n",
            "Epoch 7/10\n",
            "53/53 - 10s - loss: 0.1289 - accuracy: 0.9629 - val_loss: 1.8049 - val_accuracy: 0.5861\n",
            "Epoch 8/10\n",
            "53/53 - 10s - loss: 0.0904 - accuracy: 0.9749 - val_loss: 1.3978 - val_accuracy: 0.6794\n",
            "Epoch 9/10\n",
            "53/53 - 10s - loss: 0.0637 - accuracy: 0.9821 - val_loss: 1.5664 - val_accuracy: 0.6794\n",
            "Epoch 10/10\n",
            "53/53 - 10s - loss: 0.0471 - accuracy: 0.9880 - val_loss: 2.0303 - val_accuracy: 0.6507\n"
          ],
          "name": "stdout"
        },
        {
          "output_type": "execute_result",
          "data": {
            "text/plain": [
              "<tensorflow.python.keras.callbacks.History at 0x7f1020dc4550>"
            ]
          },
          "metadata": {
            "tags": []
          },
          "execution_count": 13
        }
      ]
    },
    {
      "cell_type": "code",
      "metadata": {
        "id": "zoXGwCYyKaUB",
        "outputId": "8e2b77b5-5d3c-4489-ee3e-f1f90c422e3b",
        "colab": {
          "base_uri": "https://localhost:8080/"
        }
      },
      "source": [
        "score = model_service.evaluate(test_review, test_service, verbose=1)\n",
        "\n",
        "print(\"Test Score:\", score[0])\n",
        "print(\"Test Accuracy:\", score[1])"
      ],
      "execution_count": 14,
      "outputs": [
        {
          "output_type": "stream",
          "text": [
            "14/14 [==============================] - 1s 39ms/step - loss: 2.0303 - accuracy: 0.6507\n",
            "Test Score: 2.030311107635498\n",
            "Test Accuracy: 0.6507176756858826\n"
          ],
          "name": "stdout"
        }
      ]
    },
    {
      "cell_type": "code",
      "metadata": {
        "id": "pPdWctoyMfQ3",
        "outputId": "0e42d540-374c-469c-afe6-510faf2294ac",
        "colab": {
          "base_uri": "https://localhost:8080/"
        }
      },
      "source": [
        "model_accomodation = tf.keras.Sequential([\n",
        "    # Add an Embedding layer expecting input vocab of size 5000, and output embedding dimension of size 64 we set at the top\n",
        "    tf.keras.layers.Embedding(vocab_size, embedding_dim),\n",
        "    tf.keras.layers.Bidirectional(tf.keras.layers.LSTM(embedding_dim)),\n",
        "#    tf.keras.layers.Bidirectional(tf.keras.layers.LSTM(32)),\n",
        "    # use ReLU in place of tanh function since they are very good alternatives of each other.\n",
        "    tf.keras.layers.Dense(embedding_dim, activation='relu'),\n",
        "    # Add a Dense layer with 6 units and softmax activation.\n",
        "    # When we have multiple outputs, softmax convert outputs layers into a probability distribution.\n",
        "    tf.keras.layers.Dense(4, activation='softmax')\n",
        "])\n",
        "\n",
        "model_accomodation.compile(loss='sparse_categorical_crossentropy', optimizer='adam', metrics=['accuracy'])\n",
        "num_epochs = 10\n",
        "model_accomodation.fit(train_review, train_accomodation, epochs=num_epochs, validation_data=(test_review, test_accomodation), verbose=2)"
      ],
      "execution_count": 15,
      "outputs": [
        {
          "output_type": "stream",
          "text": [
            "Epoch 1/10\n",
            "53/53 - 10s - loss: 0.9530 - accuracy: 0.7147 - val_loss: 0.6376 - val_accuracy: 0.7799\n",
            "Epoch 2/10\n",
            "53/53 - 10s - loss: 0.7393 - accuracy: 0.7362 - val_loss: 0.6358 - val_accuracy: 0.7847\n",
            "Epoch 3/10\n",
            "53/53 - 10s - loss: 0.5144 - accuracy: 0.8266 - val_loss: 0.6563 - val_accuracy: 0.7703\n",
            "Epoch 4/10\n",
            "53/53 - 10s - loss: 0.3101 - accuracy: 0.8882 - val_loss: 0.8184 - val_accuracy: 0.7201\n",
            "Epoch 5/10\n",
            "53/53 - 10s - loss: 0.2100 - accuracy: 0.9234 - val_loss: 1.0617 - val_accuracy: 0.7823\n",
            "Epoch 6/10\n",
            "53/53 - 10s - loss: 0.1430 - accuracy: 0.9474 - val_loss: 1.0422 - val_accuracy: 0.7703\n",
            "Epoch 7/10\n",
            "53/53 - 10s - loss: 0.0987 - accuracy: 0.9641 - val_loss: 1.3260 - val_accuracy: 0.7727\n",
            "Epoch 8/10\n",
            "53/53 - 10s - loss: 0.0724 - accuracy: 0.9737 - val_loss: 1.3731 - val_accuracy: 0.7297\n",
            "Epoch 9/10\n",
            "53/53 - 10s - loss: 0.0635 - accuracy: 0.9833 - val_loss: 1.4976 - val_accuracy: 0.7392\n",
            "Epoch 10/10\n",
            "53/53 - 10s - loss: 0.0296 - accuracy: 0.9928 - val_loss: 1.6470 - val_accuracy: 0.7392\n"
          ],
          "name": "stdout"
        },
        {
          "output_type": "execute_result",
          "data": {
            "text/plain": [
              "<tensorflow.python.keras.callbacks.History at 0x7f101f37b5c0>"
            ]
          },
          "metadata": {
            "tags": []
          },
          "execution_count": 15
        }
      ]
    },
    {
      "cell_type": "code",
      "metadata": {
        "id": "UEIStFf-KhSI",
        "outputId": "15a14925-b2dd-40dc-cd32-f75e5b6c09c6",
        "colab": {
          "base_uri": "https://localhost:8080/"
        }
      },
      "source": [
        "score = model_accomodation.evaluate(test_review, test_accomodation, verbose=1)\n",
        "\n",
        "print(\"Test Score:\", score[0])\n",
        "print(\"Test Accuracy:\", score[1])"
      ],
      "execution_count": 16,
      "outputs": [
        {
          "output_type": "stream",
          "text": [
            "14/14 [==============================] - 0s 34ms/step - loss: 1.6470 - accuracy: 0.7392\n",
            "Test Score: 1.6470292806625366\n",
            "Test Accuracy: 0.739234447479248\n"
          ],
          "name": "stdout"
        }
      ]
    },
    {
      "cell_type": "code",
      "metadata": {
        "id": "3rcPHw1_MfQ6",
        "outputId": "c5c8115e-bd75-416d-9d98-f33aa892ae5b",
        "colab": {
          "base_uri": "https://localhost:8080/"
        }
      },
      "source": [
        "model_facility = tf.keras.Sequential([\n",
        "    # Add an Embedding layer expecting input vocab of size 5000, and output embedding dimension of size 64 we set at the top\n",
        "    tf.keras.layers.Embedding(vocab_size, embedding_dim),\n",
        "    tf.keras.layers.Bidirectional(tf.keras.layers.LSTM(embedding_dim)),\n",
        "#    tf.keras.layers.Bidirectional(tf.keras.layers.LSTM(32)),\n",
        "    # use ReLU in place of tanh function since they are very good alternatives of each other.\n",
        "    tf.keras.layers.Dense(embedding_dim, activation='relu'),\n",
        "    # Add a Dense layer with 6 units and softmax activation.\n",
        "    # When we have multiple outputs, softmax convert outputs layers into a probability distribution.\n",
        "    tf.keras.layers.Dense(4, activation='softmax')\n",
        "])\n",
        "\n",
        "model_facility.compile(loss='sparse_categorical_crossentropy', optimizer='adam', metrics=['accuracy'])\n",
        "num_epochs = 10\n",
        "model_facility.fit(train_review, train_facility, epochs=num_epochs, validation_data=(test_review, test_facility), verbose=2)"
      ],
      "execution_count": 17,
      "outputs": [
        {
          "output_type": "stream",
          "text": [
            "Epoch 1/10\n",
            "53/53 - 11s - loss: 1.0980 - accuracy: 0.4396 - val_loss: 0.9733 - val_accuracy: 0.5957\n",
            "Epoch 2/10\n",
            "53/53 - 10s - loss: 0.9706 - accuracy: 0.5706 - val_loss: 1.3724 - val_accuracy: 0.3254\n",
            "Epoch 3/10\n",
            "53/53 - 10s - loss: 0.7431 - accuracy: 0.7183 - val_loss: 1.1568 - val_accuracy: 0.5048\n",
            "Epoch 4/10\n",
            "53/53 - 10s - loss: 0.4904 - accuracy: 0.8116 - val_loss: 1.3977 - val_accuracy: 0.4665\n",
            "Epoch 5/10\n",
            "53/53 - 10s - loss: 0.2835 - accuracy: 0.8977 - val_loss: 1.9528 - val_accuracy: 0.4258\n",
            "Epoch 6/10\n",
            "53/53 - 10s - loss: 0.1471 - accuracy: 0.9522 - val_loss: 2.0463 - val_accuracy: 0.4593\n",
            "Epoch 7/10\n",
            "53/53 - 10s - loss: 0.0925 - accuracy: 0.9695 - val_loss: 2.5856 - val_accuracy: 0.4545\n",
            "Epoch 8/10\n",
            "53/53 - 10s - loss: 0.0444 - accuracy: 0.9904 - val_loss: 3.2944 - val_accuracy: 0.4426\n",
            "Epoch 9/10\n",
            "53/53 - 10s - loss: 0.0262 - accuracy: 0.9928 - val_loss: 3.5625 - val_accuracy: 0.4593\n",
            "Epoch 10/10\n",
            "53/53 - 10s - loss: 0.0249 - accuracy: 0.9952 - val_loss: 3.3937 - val_accuracy: 0.4952\n"
          ],
          "name": "stdout"
        },
        {
          "output_type": "execute_result",
          "data": {
            "text/plain": [
              "<tensorflow.python.keras.callbacks.History at 0x7f101e8abb00>"
            ]
          },
          "metadata": {
            "tags": []
          },
          "execution_count": 17
        }
      ]
    },
    {
      "cell_type": "code",
      "metadata": {
        "id": "CmdDfbwAKoXz",
        "outputId": "1feca4e2-8068-4ea5-ba96-4d2723b8cb22",
        "colab": {
          "base_uri": "https://localhost:8080/"
        }
      },
      "source": [
        "score = model_facility.evaluate(test_review, test_facility, verbose=1)\n",
        "\n",
        "print(\"Test Score:\", score[0])\n",
        "print(\"Test Accuracy:\", score[1])"
      ],
      "execution_count": 18,
      "outputs": [
        {
          "output_type": "stream",
          "text": [
            "14/14 [==============================] - 0s 34ms/step - loss: 3.3937 - accuracy: 0.4952\n",
            "Test Score: 3.3936727046966553\n",
            "Test Accuracy: 0.4952152967453003\n"
          ],
          "name": "stdout"
        }
      ]
    },
    {
      "cell_type": "code",
      "metadata": {
        "id": "s9O9LfS1MfQ-",
        "outputId": "fe7a6831-65ab-4136-8a2a-638df54abf7c",
        "colab": {
          "base_uri": "https://localhost:8080/"
        }
      },
      "source": [
        "model_crowd = tf.keras.Sequential([\n",
        "    # Add an Embedding layer expecting input vocab of size 5000, and output embedding dimension of size 64 we set at the top\n",
        "    tf.keras.layers.Embedding(vocab_size, embedding_dim),\n",
        "    tf.keras.layers.Bidirectional(tf.keras.layers.LSTM(embedding_dim)),\n",
        "#    tf.keras.layers.Bidirectional(tf.keras.layers.LSTM(32)),\n",
        "    # use ReLU in place of tanh function since they are very good alternatives of each other.\n",
        "    tf.keras.layers.Dense(embedding_dim, activation='relu'),\n",
        "    # Add a Dense layer with 6 units and softmax activation.\n",
        "    # When we have multiple outputs, softmax convert outputs layers into a probability distribution.\n",
        "    tf.keras.layers.Dense(4, activation='softmax')\n",
        "])\n",
        "\n",
        "model_crowd.compile(loss='sparse_categorical_crossentropy', optimizer='adam', metrics=['accuracy'])\n",
        "num_epochs = 10\n",
        "model_crowd.fit(train_review, train_crowd, epochs=num_epochs, validation_data=(test_review, test_crowd), verbose=2)"
      ],
      "execution_count": 19,
      "outputs": [
        {
          "output_type": "stream",
          "text": [
            "Epoch 1/10\n",
            "53/53 - 11s - loss: 0.6755 - accuracy: 0.8684 - val_loss: 0.1667 - val_accuracy: 0.9856\n",
            "Epoch 2/10\n",
            "53/53 - 10s - loss: 0.4761 - accuracy: 0.8684 - val_loss: 0.1020 - val_accuracy: 0.9856\n",
            "Epoch 3/10\n",
            "53/53 - 10s - loss: 0.3456 - accuracy: 0.8846 - val_loss: 0.1120 - val_accuracy: 0.9856\n",
            "Epoch 4/10\n",
            "53/53 - 10s - loss: 0.2103 - accuracy: 0.9103 - val_loss: 0.1374 - val_accuracy: 0.9809\n",
            "Epoch 5/10\n",
            "53/53 - 10s - loss: 0.1596 - accuracy: 0.9252 - val_loss: 0.1629 - val_accuracy: 0.9833\n",
            "Epoch 6/10\n",
            "53/53 - 10s - loss: 0.1334 - accuracy: 0.9468 - val_loss: 0.1789 - val_accuracy: 0.9833\n",
            "Epoch 7/10\n",
            "53/53 - 10s - loss: 0.1114 - accuracy: 0.9587 - val_loss: 0.2072 - val_accuracy: 0.9809\n",
            "Epoch 8/10\n",
            "53/53 - 10s - loss: 0.0816 - accuracy: 0.9707 - val_loss: 0.2245 - val_accuracy: 0.9809\n",
            "Epoch 9/10\n",
            "53/53 - 10s - loss: 0.0503 - accuracy: 0.9791 - val_loss: 0.2505 - val_accuracy: 0.9737\n",
            "Epoch 10/10\n",
            "53/53 - 10s - loss: 0.0603 - accuracy: 0.9833 - val_loss: 0.2216 - val_accuracy: 0.9809\n"
          ],
          "name": "stdout"
        },
        {
          "output_type": "execute_result",
          "data": {
            "text/plain": [
              "<tensorflow.python.keras.callbacks.History at 0x7f101bd535c0>"
            ]
          },
          "metadata": {
            "tags": []
          },
          "execution_count": 19
        }
      ]
    },
    {
      "cell_type": "code",
      "metadata": {
        "id": "DSZgm-PBKtbp",
        "outputId": "2f5c2a1a-ade8-43b3-ef13-e15da49e67a8",
        "colab": {
          "base_uri": "https://localhost:8080/"
        }
      },
      "source": [
        "score = model_crowd.evaluate(test_review, test_crowd, verbose=1)\n",
        "\n",
        "print(\"Test Score:\", score[0])\n",
        "print(\"Test Accuracy:\", score[1])"
      ],
      "execution_count": 20,
      "outputs": [
        {
          "output_type": "stream",
          "text": [
            "14/14 [==============================] - 0s 34ms/step - loss: 0.2216 - accuracy: 0.9809\n",
            "Test Score: 0.22163648903369904\n",
            "Test Accuracy: 0.980861246585846\n"
          ],
          "name": "stdout"
        }
      ]
    },
    {
      "cell_type": "markdown",
      "metadata": {
        "id": "Kff0CkWj6I7J"
      },
      "source": [
        "# Coba prediksi 6000an data"
      ]
    },
    {
      "cell_type": "code",
      "metadata": {
        "id": "nl8MJmvW6LwQ"
      },
      "source": [
        "all_review = pd.read_csv('all_scraped_casefold.csv')\n",
        "all_review_sequences = tokenizer.texts_to_sequences(all_review['Review'])\n",
        "all_review_padded = pad_sequences(all_review_sequences, maxlen=max_length, padding=padding_type, truncating=trunc_type)"
      ],
      "execution_count": 21,
      "outputs": []
    },
    {
      "cell_type": "code",
      "metadata": {
        "id": "lxQrkyy36tYi",
        "outputId": "a74d4dae-4b88-4d14-d6c7-2c3bb04d216a",
        "colab": {
          "base_uri": "https://localhost:8080/",
          "height": 419
        }
      },
      "source": [
        "cleanliness_predict_result = model_cleanliness.predict(all_review_padded, verbose=2)\n",
        "label = [0, 1, 2, 3]\n",
        "cleanliness_predict = []\n",
        "for item in cleanliness_predict_result:\n",
        "    cleanliness_predict.append(label[np.argmax(item)])\n",
        "all_review['cleanliness_predict'] = cleanliness_predict\n",
        "all_review"
      ],
      "execution_count": 22,
      "outputs": [
        {
          "output_type": "stream",
          "text": [
            "206/206 - 8s\n"
          ],
          "name": "stdout"
        },
        {
          "output_type": "execute_result",
          "data": {
            "text/html": [
              "<div>\n",
              "<style scoped>\n",
              "    .dataframe tbody tr th:only-of-type {\n",
              "        vertical-align: middle;\n",
              "    }\n",
              "\n",
              "    .dataframe tbody tr th {\n",
              "        vertical-align: top;\n",
              "    }\n",
              "\n",
              "    .dataframe thead th {\n",
              "        text-align: right;\n",
              "    }\n",
              "</style>\n",
              "<table border=\"1\" class=\"dataframe\">\n",
              "  <thead>\n",
              "    <tr style=\"text-align: right;\">\n",
              "      <th></th>\n",
              "      <th>Rating</th>\n",
              "      <th>Review</th>\n",
              "      <th>Name</th>\n",
              "      <th>Province</th>\n",
              "      <th>Type</th>\n",
              "      <th>cleanliness_predict</th>\n",
              "    </tr>\n",
              "  </thead>\n",
              "  <tbody>\n",
              "    <tr>\n",
              "      <th>0</th>\n",
              "      <td>5.0</td>\n",
              "      <td>beautiful and stunning view of the beach clear...</td>\n",
              "      <td>Nusa Dua Beach</td>\n",
              "      <td>Bali</td>\n",
              "      <td>Alam</td>\n",
              "      <td>0</td>\n",
              "    </tr>\n",
              "    <tr>\n",
              "      <th>1</th>\n",
              "      <td>5.0</td>\n",
              "      <td>you arrifve and are immeditely overwhelmed by ...</td>\n",
              "      <td>Nusa Dua Beach</td>\n",
              "      <td>Bali</td>\n",
              "      <td>Alam</td>\n",
              "      <td>0</td>\n",
              "    </tr>\n",
              "    <tr>\n",
              "      <th>2</th>\n",
              "      <td>5.0</td>\n",
              "      <td>nusa dua are the best beaches i saw on bali nu...</td>\n",
              "      <td>Nusa Dua Beach</td>\n",
              "      <td>Bali</td>\n",
              "      <td>Alam</td>\n",
              "      <td>0</td>\n",
              "    </tr>\n",
              "    <tr>\n",
              "      <th>3</th>\n",
              "      <td>4.0</td>\n",
              "      <td>move to the central area wave and tides clean ...</td>\n",
              "      <td>Nusa Dua Beach</td>\n",
              "      <td>Bali</td>\n",
              "      <td>Alam</td>\n",
              "      <td>1</td>\n",
              "    </tr>\n",
              "    <tr>\n",
              "      <th>4</th>\n",
              "      <td>4.0</td>\n",
              "      <td>white sand beach with chairs and some restaura...</td>\n",
              "      <td>Nusa Dua Beach</td>\n",
              "      <td>Bali</td>\n",
              "      <td>Alam</td>\n",
              "      <td>0</td>\n",
              "    </tr>\n",
              "    <tr>\n",
              "      <th>...</th>\n",
              "      <td>...</td>\n",
              "      <td>...</td>\n",
              "      <td>...</td>\n",
              "      <td>...</td>\n",
              "      <td>...</td>\n",
              "      <td>...</td>\n",
              "    </tr>\n",
              "    <tr>\n",
              "      <th>6568</th>\n",
              "      <td>5.0</td>\n",
              "      <td>it takes a lot for me to rate this as a five s...</td>\n",
              "      <td>Cocotinos Sekotong, Boutique Beach Resort &amp; Spa</td>\n",
              "      <td>NTB</td>\n",
              "      <td>Urban</td>\n",
              "      <td>0</td>\n",
              "    </tr>\n",
              "    <tr>\n",
              "      <th>6569</th>\n",
              "      <td>5.0</td>\n",
              "      <td>we stayed here for a couple of nights and love...</td>\n",
              "      <td>Cocotinos Sekotong, Boutique Beach Resort &amp; Spa</td>\n",
              "      <td>NTB</td>\n",
              "      <td>Urban</td>\n",
              "      <td>0</td>\n",
              "    </tr>\n",
              "    <tr>\n",
              "      <th>6570</th>\n",
              "      <td>5.0</td>\n",
              "      <td>i stayed here for four nights after completing...</td>\n",
              "      <td>Cocotinos Sekotong, Boutique Beach Resort &amp; Spa</td>\n",
              "      <td>NTB</td>\n",
              "      <td>Urban</td>\n",
              "      <td>1</td>\n",
              "    </tr>\n",
              "    <tr>\n",
              "      <th>6571</th>\n",
              "      <td>5.0</td>\n",
              "      <td>went on honeymoon to bali and lombok last mont...</td>\n",
              "      <td>Cocotinos Sekotong, Boutique Beach Resort &amp; Spa</td>\n",
              "      <td>NTB</td>\n",
              "      <td>Urban</td>\n",
              "      <td>0</td>\n",
              "    </tr>\n",
              "    <tr>\n",
              "      <th>6572</th>\n",
              "      <td>5.0</td>\n",
              "      <td>my sister and i stayed at this resort for  nig...</td>\n",
              "      <td>Cocotinos Sekotong, Boutique Beach Resort &amp; Spa</td>\n",
              "      <td>NTB</td>\n",
              "      <td>Urban</td>\n",
              "      <td>1</td>\n",
              "    </tr>\n",
              "  </tbody>\n",
              "</table>\n",
              "<p>6573 rows × 6 columns</p>\n",
              "</div>"
            ],
            "text/plain": [
              "      Rating  ... cleanliness_predict\n",
              "0        5.0  ...                   0\n",
              "1        5.0  ...                   0\n",
              "2        5.0  ...                   0\n",
              "3        4.0  ...                   1\n",
              "4        4.0  ...                   0\n",
              "...      ...  ...                 ...\n",
              "6568     5.0  ...                   0\n",
              "6569     5.0  ...                   0\n",
              "6570     5.0  ...                   1\n",
              "6571     5.0  ...                   0\n",
              "6572     5.0  ...                   1\n",
              "\n",
              "[6573 rows x 6 columns]"
            ]
          },
          "metadata": {
            "tags": []
          },
          "execution_count": 22
        }
      ]
    },
    {
      "cell_type": "code",
      "metadata": {
        "id": "PIhcq5IF7Ls6",
        "outputId": "36e27a3f-bf60-4d4f-ec5c-b0ac576362c9",
        "colab": {
          "base_uri": "https://localhost:8080/",
          "height": 587
        }
      },
      "source": [
        "service_predict_result = model_service.predict(all_review_padded, verbose=2)\n",
        "service_predict = []\n",
        "for item in service_predict_result:\n",
        "    service_predict.append(label[np.argmax(item)])\n",
        "all_review['service_predict'] = service_predict\n",
        "all_review"
      ],
      "execution_count": 23,
      "outputs": [
        {
          "output_type": "stream",
          "text": [
            "206/206 - 8s\n"
          ],
          "name": "stdout"
        },
        {
          "output_type": "execute_result",
          "data": {
            "text/html": [
              "<div>\n",
              "<style scoped>\n",
              "    .dataframe tbody tr th:only-of-type {\n",
              "        vertical-align: middle;\n",
              "    }\n",
              "\n",
              "    .dataframe tbody tr th {\n",
              "        vertical-align: top;\n",
              "    }\n",
              "\n",
              "    .dataframe thead th {\n",
              "        text-align: right;\n",
              "    }\n",
              "</style>\n",
              "<table border=\"1\" class=\"dataframe\">\n",
              "  <thead>\n",
              "    <tr style=\"text-align: right;\">\n",
              "      <th></th>\n",
              "      <th>Rating</th>\n",
              "      <th>Review</th>\n",
              "      <th>Name</th>\n",
              "      <th>Province</th>\n",
              "      <th>Type</th>\n",
              "      <th>cleanliness_predict</th>\n",
              "      <th>service_predict</th>\n",
              "    </tr>\n",
              "  </thead>\n",
              "  <tbody>\n",
              "    <tr>\n",
              "      <th>0</th>\n",
              "      <td>5.0</td>\n",
              "      <td>beautiful and stunning view of the beach clear...</td>\n",
              "      <td>Nusa Dua Beach</td>\n",
              "      <td>Bali</td>\n",
              "      <td>Alam</td>\n",
              "      <td>0</td>\n",
              "      <td>0</td>\n",
              "    </tr>\n",
              "    <tr>\n",
              "      <th>1</th>\n",
              "      <td>5.0</td>\n",
              "      <td>you arrifve and are immeditely overwhelmed by ...</td>\n",
              "      <td>Nusa Dua Beach</td>\n",
              "      <td>Bali</td>\n",
              "      <td>Alam</td>\n",
              "      <td>0</td>\n",
              "      <td>0</td>\n",
              "    </tr>\n",
              "    <tr>\n",
              "      <th>2</th>\n",
              "      <td>5.0</td>\n",
              "      <td>nusa dua are the best beaches i saw on bali nu...</td>\n",
              "      <td>Nusa Dua Beach</td>\n",
              "      <td>Bali</td>\n",
              "      <td>Alam</td>\n",
              "      <td>0</td>\n",
              "      <td>0</td>\n",
              "    </tr>\n",
              "    <tr>\n",
              "      <th>3</th>\n",
              "      <td>4.0</td>\n",
              "      <td>move to the central area wave and tides clean ...</td>\n",
              "      <td>Nusa Dua Beach</td>\n",
              "      <td>Bali</td>\n",
              "      <td>Alam</td>\n",
              "      <td>1</td>\n",
              "      <td>0</td>\n",
              "    </tr>\n",
              "    <tr>\n",
              "      <th>4</th>\n",
              "      <td>4.0</td>\n",
              "      <td>white sand beach with chairs and some restaura...</td>\n",
              "      <td>Nusa Dua Beach</td>\n",
              "      <td>Bali</td>\n",
              "      <td>Alam</td>\n",
              "      <td>0</td>\n",
              "      <td>0</td>\n",
              "    </tr>\n",
              "    <tr>\n",
              "      <th>...</th>\n",
              "      <td>...</td>\n",
              "      <td>...</td>\n",
              "      <td>...</td>\n",
              "      <td>...</td>\n",
              "      <td>...</td>\n",
              "      <td>...</td>\n",
              "      <td>...</td>\n",
              "    </tr>\n",
              "    <tr>\n",
              "      <th>6568</th>\n",
              "      <td>5.0</td>\n",
              "      <td>it takes a lot for me to rate this as a five s...</td>\n",
              "      <td>Cocotinos Sekotong, Boutique Beach Resort &amp; Spa</td>\n",
              "      <td>NTB</td>\n",
              "      <td>Urban</td>\n",
              "      <td>0</td>\n",
              "      <td>1</td>\n",
              "    </tr>\n",
              "    <tr>\n",
              "      <th>6569</th>\n",
              "      <td>5.0</td>\n",
              "      <td>we stayed here for a couple of nights and love...</td>\n",
              "      <td>Cocotinos Sekotong, Boutique Beach Resort &amp; Spa</td>\n",
              "      <td>NTB</td>\n",
              "      <td>Urban</td>\n",
              "      <td>0</td>\n",
              "      <td>0</td>\n",
              "    </tr>\n",
              "    <tr>\n",
              "      <th>6570</th>\n",
              "      <td>5.0</td>\n",
              "      <td>i stayed here for four nights after completing...</td>\n",
              "      <td>Cocotinos Sekotong, Boutique Beach Resort &amp; Spa</td>\n",
              "      <td>NTB</td>\n",
              "      <td>Urban</td>\n",
              "      <td>1</td>\n",
              "      <td>3</td>\n",
              "    </tr>\n",
              "    <tr>\n",
              "      <th>6571</th>\n",
              "      <td>5.0</td>\n",
              "      <td>went on honeymoon to bali and lombok last mont...</td>\n",
              "      <td>Cocotinos Sekotong, Boutique Beach Resort &amp; Spa</td>\n",
              "      <td>NTB</td>\n",
              "      <td>Urban</td>\n",
              "      <td>0</td>\n",
              "      <td>3</td>\n",
              "    </tr>\n",
              "    <tr>\n",
              "      <th>6572</th>\n",
              "      <td>5.0</td>\n",
              "      <td>my sister and i stayed at this resort for  nig...</td>\n",
              "      <td>Cocotinos Sekotong, Boutique Beach Resort &amp; Spa</td>\n",
              "      <td>NTB</td>\n",
              "      <td>Urban</td>\n",
              "      <td>1</td>\n",
              "      <td>1</td>\n",
              "    </tr>\n",
              "  </tbody>\n",
              "</table>\n",
              "<p>6573 rows × 7 columns</p>\n",
              "</div>"
            ],
            "text/plain": [
              "      Rating  ... service_predict\n",
              "0        5.0  ...               0\n",
              "1        5.0  ...               0\n",
              "2        5.0  ...               0\n",
              "3        4.0  ...               0\n",
              "4        4.0  ...               0\n",
              "...      ...  ...             ...\n",
              "6568     5.0  ...               1\n",
              "6569     5.0  ...               0\n",
              "6570     5.0  ...               3\n",
              "6571     5.0  ...               3\n",
              "6572     5.0  ...               1\n",
              "\n",
              "[6573 rows x 7 columns]"
            ]
          },
          "metadata": {
            "tags": []
          },
          "execution_count": 23
        }
      ]
    },
    {
      "cell_type": "code",
      "metadata": {
        "id": "REY2l1ck7syF",
        "outputId": "c0f860ca-3094-4579-868f-c2e058c8ebd7",
        "colab": {
          "base_uri": "https://localhost:8080/",
          "height": 587
        }
      },
      "source": [
        "accomodation_predict_result = model_accomodation.predict(all_review_padded, verbose=2)\n",
        "accomodation_predict = []\n",
        "for item in accomodation_predict_result:\n",
        "    accomodation_predict.append(label[np.argmax(item)])\n",
        "all_review['accomodation_predict'] = accomodation_predict\n",
        "all_review"
      ],
      "execution_count": 24,
      "outputs": [
        {
          "output_type": "stream",
          "text": [
            "206/206 - 7s\n"
          ],
          "name": "stdout"
        },
        {
          "output_type": "execute_result",
          "data": {
            "text/html": [
              "<div>\n",
              "<style scoped>\n",
              "    .dataframe tbody tr th:only-of-type {\n",
              "        vertical-align: middle;\n",
              "    }\n",
              "\n",
              "    .dataframe tbody tr th {\n",
              "        vertical-align: top;\n",
              "    }\n",
              "\n",
              "    .dataframe thead th {\n",
              "        text-align: right;\n",
              "    }\n",
              "</style>\n",
              "<table border=\"1\" class=\"dataframe\">\n",
              "  <thead>\n",
              "    <tr style=\"text-align: right;\">\n",
              "      <th></th>\n",
              "      <th>Rating</th>\n",
              "      <th>Review</th>\n",
              "      <th>Name</th>\n",
              "      <th>Province</th>\n",
              "      <th>Type</th>\n",
              "      <th>cleanliness_predict</th>\n",
              "      <th>service_predict</th>\n",
              "      <th>accomodation_predict</th>\n",
              "    </tr>\n",
              "  </thead>\n",
              "  <tbody>\n",
              "    <tr>\n",
              "      <th>0</th>\n",
              "      <td>5.0</td>\n",
              "      <td>beautiful and stunning view of the beach clear...</td>\n",
              "      <td>Nusa Dua Beach</td>\n",
              "      <td>Bali</td>\n",
              "      <td>Alam</td>\n",
              "      <td>0</td>\n",
              "      <td>0</td>\n",
              "      <td>0</td>\n",
              "    </tr>\n",
              "    <tr>\n",
              "      <th>1</th>\n",
              "      <td>5.0</td>\n",
              "      <td>you arrifve and are immeditely overwhelmed by ...</td>\n",
              "      <td>Nusa Dua Beach</td>\n",
              "      <td>Bali</td>\n",
              "      <td>Alam</td>\n",
              "      <td>0</td>\n",
              "      <td>0</td>\n",
              "      <td>0</td>\n",
              "    </tr>\n",
              "    <tr>\n",
              "      <th>2</th>\n",
              "      <td>5.0</td>\n",
              "      <td>nusa dua are the best beaches i saw on bali nu...</td>\n",
              "      <td>Nusa Dua Beach</td>\n",
              "      <td>Bali</td>\n",
              "      <td>Alam</td>\n",
              "      <td>0</td>\n",
              "      <td>0</td>\n",
              "      <td>0</td>\n",
              "    </tr>\n",
              "    <tr>\n",
              "      <th>3</th>\n",
              "      <td>4.0</td>\n",
              "      <td>move to the central area wave and tides clean ...</td>\n",
              "      <td>Nusa Dua Beach</td>\n",
              "      <td>Bali</td>\n",
              "      <td>Alam</td>\n",
              "      <td>1</td>\n",
              "      <td>0</td>\n",
              "      <td>0</td>\n",
              "    </tr>\n",
              "    <tr>\n",
              "      <th>4</th>\n",
              "      <td>4.0</td>\n",
              "      <td>white sand beach with chairs and some restaura...</td>\n",
              "      <td>Nusa Dua Beach</td>\n",
              "      <td>Bali</td>\n",
              "      <td>Alam</td>\n",
              "      <td>0</td>\n",
              "      <td>0</td>\n",
              "      <td>0</td>\n",
              "    </tr>\n",
              "    <tr>\n",
              "      <th>...</th>\n",
              "      <td>...</td>\n",
              "      <td>...</td>\n",
              "      <td>...</td>\n",
              "      <td>...</td>\n",
              "      <td>...</td>\n",
              "      <td>...</td>\n",
              "      <td>...</td>\n",
              "      <td>...</td>\n",
              "    </tr>\n",
              "    <tr>\n",
              "      <th>6568</th>\n",
              "      <td>5.0</td>\n",
              "      <td>it takes a lot for me to rate this as a five s...</td>\n",
              "      <td>Cocotinos Sekotong, Boutique Beach Resort &amp; Spa</td>\n",
              "      <td>NTB</td>\n",
              "      <td>Urban</td>\n",
              "      <td>0</td>\n",
              "      <td>1</td>\n",
              "      <td>0</td>\n",
              "    </tr>\n",
              "    <tr>\n",
              "      <th>6569</th>\n",
              "      <td>5.0</td>\n",
              "      <td>we stayed here for a couple of nights and love...</td>\n",
              "      <td>Cocotinos Sekotong, Boutique Beach Resort &amp; Spa</td>\n",
              "      <td>NTB</td>\n",
              "      <td>Urban</td>\n",
              "      <td>0</td>\n",
              "      <td>0</td>\n",
              "      <td>0</td>\n",
              "    </tr>\n",
              "    <tr>\n",
              "      <th>6570</th>\n",
              "      <td>5.0</td>\n",
              "      <td>i stayed here for four nights after completing...</td>\n",
              "      <td>Cocotinos Sekotong, Boutique Beach Resort &amp; Spa</td>\n",
              "      <td>NTB</td>\n",
              "      <td>Urban</td>\n",
              "      <td>1</td>\n",
              "      <td>3</td>\n",
              "      <td>0</td>\n",
              "    </tr>\n",
              "    <tr>\n",
              "      <th>6571</th>\n",
              "      <td>5.0</td>\n",
              "      <td>went on honeymoon to bali and lombok last mont...</td>\n",
              "      <td>Cocotinos Sekotong, Boutique Beach Resort &amp; Spa</td>\n",
              "      <td>NTB</td>\n",
              "      <td>Urban</td>\n",
              "      <td>0</td>\n",
              "      <td>3</td>\n",
              "      <td>0</td>\n",
              "    </tr>\n",
              "    <tr>\n",
              "      <th>6572</th>\n",
              "      <td>5.0</td>\n",
              "      <td>my sister and i stayed at this resort for  nig...</td>\n",
              "      <td>Cocotinos Sekotong, Boutique Beach Resort &amp; Spa</td>\n",
              "      <td>NTB</td>\n",
              "      <td>Urban</td>\n",
              "      <td>1</td>\n",
              "      <td>1</td>\n",
              "      <td>0</td>\n",
              "    </tr>\n",
              "  </tbody>\n",
              "</table>\n",
              "<p>6573 rows × 8 columns</p>\n",
              "</div>"
            ],
            "text/plain": [
              "      Rating  ... accomodation_predict\n",
              "0        5.0  ...                    0\n",
              "1        5.0  ...                    0\n",
              "2        5.0  ...                    0\n",
              "3        4.0  ...                    0\n",
              "4        4.0  ...                    0\n",
              "...      ...  ...                  ...\n",
              "6568     5.0  ...                    0\n",
              "6569     5.0  ...                    0\n",
              "6570     5.0  ...                    0\n",
              "6571     5.0  ...                    0\n",
              "6572     5.0  ...                    0\n",
              "\n",
              "[6573 rows x 8 columns]"
            ]
          },
          "metadata": {
            "tags": []
          },
          "execution_count": 24
        }
      ]
    },
    {
      "cell_type": "code",
      "metadata": {
        "id": "97ZMIece8CQR",
        "outputId": "4fd4ca06-983c-4587-976b-9418637432c4",
        "colab": {
          "base_uri": "https://localhost:8080/",
          "height": 839
        }
      },
      "source": [
        "facility_predict_result = model_facility.predict(all_review_padded, verbose=2)\n",
        "facility_predict = []\n",
        "for item in facility_predict_result:\n",
        "    facility_predict.append(label[np.argmax(item)])\n",
        "all_review['facility_predict'] = facility_predict\n",
        "all_review"
      ],
      "execution_count": 25,
      "outputs": [
        {
          "output_type": "stream",
          "text": [
            "206/206 - 7s\n"
          ],
          "name": "stdout"
        },
        {
          "output_type": "execute_result",
          "data": {
            "text/html": [
              "<div>\n",
              "<style scoped>\n",
              "    .dataframe tbody tr th:only-of-type {\n",
              "        vertical-align: middle;\n",
              "    }\n",
              "\n",
              "    .dataframe tbody tr th {\n",
              "        vertical-align: top;\n",
              "    }\n",
              "\n",
              "    .dataframe thead th {\n",
              "        text-align: right;\n",
              "    }\n",
              "</style>\n",
              "<table border=\"1\" class=\"dataframe\">\n",
              "  <thead>\n",
              "    <tr style=\"text-align: right;\">\n",
              "      <th></th>\n",
              "      <th>Rating</th>\n",
              "      <th>Review</th>\n",
              "      <th>Name</th>\n",
              "      <th>Province</th>\n",
              "      <th>Type</th>\n",
              "      <th>cleanliness_predict</th>\n",
              "      <th>service_predict</th>\n",
              "      <th>accomodation_predict</th>\n",
              "      <th>facility_predict</th>\n",
              "    </tr>\n",
              "  </thead>\n",
              "  <tbody>\n",
              "    <tr>\n",
              "      <th>0</th>\n",
              "      <td>5.0</td>\n",
              "      <td>beautiful and stunning view of the beach clear...</td>\n",
              "      <td>Nusa Dua Beach</td>\n",
              "      <td>Bali</td>\n",
              "      <td>Alam</td>\n",
              "      <td>0</td>\n",
              "      <td>0</td>\n",
              "      <td>0</td>\n",
              "      <td>3</td>\n",
              "    </tr>\n",
              "    <tr>\n",
              "      <th>1</th>\n",
              "      <td>5.0</td>\n",
              "      <td>you arrifve and are immeditely overwhelmed by ...</td>\n",
              "      <td>Nusa Dua Beach</td>\n",
              "      <td>Bali</td>\n",
              "      <td>Alam</td>\n",
              "      <td>0</td>\n",
              "      <td>0</td>\n",
              "      <td>0</td>\n",
              "      <td>3</td>\n",
              "    </tr>\n",
              "    <tr>\n",
              "      <th>2</th>\n",
              "      <td>5.0</td>\n",
              "      <td>nusa dua are the best beaches i saw on bali nu...</td>\n",
              "      <td>Nusa Dua Beach</td>\n",
              "      <td>Bali</td>\n",
              "      <td>Alam</td>\n",
              "      <td>0</td>\n",
              "      <td>0</td>\n",
              "      <td>0</td>\n",
              "      <td>0</td>\n",
              "    </tr>\n",
              "    <tr>\n",
              "      <th>3</th>\n",
              "      <td>4.0</td>\n",
              "      <td>move to the central area wave and tides clean ...</td>\n",
              "      <td>Nusa Dua Beach</td>\n",
              "      <td>Bali</td>\n",
              "      <td>Alam</td>\n",
              "      <td>1</td>\n",
              "      <td>0</td>\n",
              "      <td>0</td>\n",
              "      <td>1</td>\n",
              "    </tr>\n",
              "    <tr>\n",
              "      <th>4</th>\n",
              "      <td>4.0</td>\n",
              "      <td>white sand beach with chairs and some restaura...</td>\n",
              "      <td>Nusa Dua Beach</td>\n",
              "      <td>Bali</td>\n",
              "      <td>Alam</td>\n",
              "      <td>0</td>\n",
              "      <td>0</td>\n",
              "      <td>0</td>\n",
              "      <td>3</td>\n",
              "    </tr>\n",
              "    <tr>\n",
              "      <th>...</th>\n",
              "      <td>...</td>\n",
              "      <td>...</td>\n",
              "      <td>...</td>\n",
              "      <td>...</td>\n",
              "      <td>...</td>\n",
              "      <td>...</td>\n",
              "      <td>...</td>\n",
              "      <td>...</td>\n",
              "      <td>...</td>\n",
              "    </tr>\n",
              "    <tr>\n",
              "      <th>6568</th>\n",
              "      <td>5.0</td>\n",
              "      <td>it takes a lot for me to rate this as a five s...</td>\n",
              "      <td>Cocotinos Sekotong, Boutique Beach Resort &amp; Spa</td>\n",
              "      <td>NTB</td>\n",
              "      <td>Urban</td>\n",
              "      <td>0</td>\n",
              "      <td>1</td>\n",
              "      <td>0</td>\n",
              "      <td>0</td>\n",
              "    </tr>\n",
              "    <tr>\n",
              "      <th>6569</th>\n",
              "      <td>5.0</td>\n",
              "      <td>we stayed here for a couple of nights and love...</td>\n",
              "      <td>Cocotinos Sekotong, Boutique Beach Resort &amp; Spa</td>\n",
              "      <td>NTB</td>\n",
              "      <td>Urban</td>\n",
              "      <td>0</td>\n",
              "      <td>0</td>\n",
              "      <td>0</td>\n",
              "      <td>1</td>\n",
              "    </tr>\n",
              "    <tr>\n",
              "      <th>6570</th>\n",
              "      <td>5.0</td>\n",
              "      <td>i stayed here for four nights after completing...</td>\n",
              "      <td>Cocotinos Sekotong, Boutique Beach Resort &amp; Spa</td>\n",
              "      <td>NTB</td>\n",
              "      <td>Urban</td>\n",
              "      <td>1</td>\n",
              "      <td>3</td>\n",
              "      <td>0</td>\n",
              "      <td>0</td>\n",
              "    </tr>\n",
              "    <tr>\n",
              "      <th>6571</th>\n",
              "      <td>5.0</td>\n",
              "      <td>went on honeymoon to bali and lombok last mont...</td>\n",
              "      <td>Cocotinos Sekotong, Boutique Beach Resort &amp; Spa</td>\n",
              "      <td>NTB</td>\n",
              "      <td>Urban</td>\n",
              "      <td>0</td>\n",
              "      <td>3</td>\n",
              "      <td>0</td>\n",
              "      <td>1</td>\n",
              "    </tr>\n",
              "    <tr>\n",
              "      <th>6572</th>\n",
              "      <td>5.0</td>\n",
              "      <td>my sister and i stayed at this resort for  nig...</td>\n",
              "      <td>Cocotinos Sekotong, Boutique Beach Resort &amp; Spa</td>\n",
              "      <td>NTB</td>\n",
              "      <td>Urban</td>\n",
              "      <td>1</td>\n",
              "      <td>1</td>\n",
              "      <td>0</td>\n",
              "      <td>2</td>\n",
              "    </tr>\n",
              "  </tbody>\n",
              "</table>\n",
              "<p>6573 rows × 9 columns</p>\n",
              "</div>"
            ],
            "text/plain": [
              "      Rating  ... facility_predict\n",
              "0        5.0  ...                3\n",
              "1        5.0  ...                3\n",
              "2        5.0  ...                0\n",
              "3        4.0  ...                1\n",
              "4        4.0  ...                3\n",
              "...      ...  ...              ...\n",
              "6568     5.0  ...                0\n",
              "6569     5.0  ...                1\n",
              "6570     5.0  ...                0\n",
              "6571     5.0  ...                1\n",
              "6572     5.0  ...                2\n",
              "\n",
              "[6573 rows x 9 columns]"
            ]
          },
          "metadata": {
            "tags": []
          },
          "execution_count": 25
        }
      ]
    },
    {
      "cell_type": "code",
      "metadata": {
        "id": "CxKA3_gq8WmD",
        "outputId": "c364eafc-ad67-46d3-d521-9a8507802ae5",
        "colab": {
          "base_uri": "https://localhost:8080/",
          "height": 1000
        }
      },
      "source": [
        "crowd_predict_result = model_crowd.predict(all_review_padded, verbose=2)\n",
        "crowd_predict = []\n",
        "for item in crowd_predict_result:\n",
        "    crowd_predict.append(label[np.argmax(item)])\n",
        "all_review['crowd_predict'] = crowd_predict\n",
        "all_review"
      ],
      "execution_count": 26,
      "outputs": [
        {
          "output_type": "stream",
          "text": [
            "206/206 - 8s\n"
          ],
          "name": "stdout"
        },
        {
          "output_type": "execute_result",
          "data": {
            "text/html": [
              "<div>\n",
              "<style scoped>\n",
              "    .dataframe tbody tr th:only-of-type {\n",
              "        vertical-align: middle;\n",
              "    }\n",
              "\n",
              "    .dataframe tbody tr th {\n",
              "        vertical-align: top;\n",
              "    }\n",
              "\n",
              "    .dataframe thead th {\n",
              "        text-align: right;\n",
              "    }\n",
              "</style>\n",
              "<table border=\"1\" class=\"dataframe\">\n",
              "  <thead>\n",
              "    <tr style=\"text-align: right;\">\n",
              "      <th></th>\n",
              "      <th>Rating</th>\n",
              "      <th>Review</th>\n",
              "      <th>Name</th>\n",
              "      <th>Province</th>\n",
              "      <th>Type</th>\n",
              "      <th>cleanliness_predict</th>\n",
              "      <th>service_predict</th>\n",
              "      <th>accomodation_predict</th>\n",
              "      <th>facility_predict</th>\n",
              "      <th>crowd_predict</th>\n",
              "    </tr>\n",
              "  </thead>\n",
              "  <tbody>\n",
              "    <tr>\n",
              "      <th>0</th>\n",
              "      <td>5.0</td>\n",
              "      <td>beautiful and stunning view of the beach clear...</td>\n",
              "      <td>Nusa Dua Beach</td>\n",
              "      <td>Bali</td>\n",
              "      <td>Alam</td>\n",
              "      <td>0</td>\n",
              "      <td>0</td>\n",
              "      <td>0</td>\n",
              "      <td>3</td>\n",
              "      <td>0</td>\n",
              "    </tr>\n",
              "    <tr>\n",
              "      <th>1</th>\n",
              "      <td>5.0</td>\n",
              "      <td>you arrifve and are immeditely overwhelmed by ...</td>\n",
              "      <td>Nusa Dua Beach</td>\n",
              "      <td>Bali</td>\n",
              "      <td>Alam</td>\n",
              "      <td>0</td>\n",
              "      <td>0</td>\n",
              "      <td>0</td>\n",
              "      <td>3</td>\n",
              "      <td>0</td>\n",
              "    </tr>\n",
              "    <tr>\n",
              "      <th>2</th>\n",
              "      <td>5.0</td>\n",
              "      <td>nusa dua are the best beaches i saw on bali nu...</td>\n",
              "      <td>Nusa Dua Beach</td>\n",
              "      <td>Bali</td>\n",
              "      <td>Alam</td>\n",
              "      <td>0</td>\n",
              "      <td>0</td>\n",
              "      <td>0</td>\n",
              "      <td>0</td>\n",
              "      <td>0</td>\n",
              "    </tr>\n",
              "    <tr>\n",
              "      <th>3</th>\n",
              "      <td>4.0</td>\n",
              "      <td>move to the central area wave and tides clean ...</td>\n",
              "      <td>Nusa Dua Beach</td>\n",
              "      <td>Bali</td>\n",
              "      <td>Alam</td>\n",
              "      <td>1</td>\n",
              "      <td>0</td>\n",
              "      <td>0</td>\n",
              "      <td>1</td>\n",
              "      <td>0</td>\n",
              "    </tr>\n",
              "    <tr>\n",
              "      <th>4</th>\n",
              "      <td>4.0</td>\n",
              "      <td>white sand beach with chairs and some restaura...</td>\n",
              "      <td>Nusa Dua Beach</td>\n",
              "      <td>Bali</td>\n",
              "      <td>Alam</td>\n",
              "      <td>0</td>\n",
              "      <td>0</td>\n",
              "      <td>0</td>\n",
              "      <td>3</td>\n",
              "      <td>0</td>\n",
              "    </tr>\n",
              "    <tr>\n",
              "      <th>...</th>\n",
              "      <td>...</td>\n",
              "      <td>...</td>\n",
              "      <td>...</td>\n",
              "      <td>...</td>\n",
              "      <td>...</td>\n",
              "      <td>...</td>\n",
              "      <td>...</td>\n",
              "      <td>...</td>\n",
              "      <td>...</td>\n",
              "      <td>...</td>\n",
              "    </tr>\n",
              "    <tr>\n",
              "      <th>6568</th>\n",
              "      <td>5.0</td>\n",
              "      <td>it takes a lot for me to rate this as a five s...</td>\n",
              "      <td>Cocotinos Sekotong, Boutique Beach Resort &amp; Spa</td>\n",
              "      <td>NTB</td>\n",
              "      <td>Urban</td>\n",
              "      <td>0</td>\n",
              "      <td>1</td>\n",
              "      <td>0</td>\n",
              "      <td>0</td>\n",
              "      <td>0</td>\n",
              "    </tr>\n",
              "    <tr>\n",
              "      <th>6569</th>\n",
              "      <td>5.0</td>\n",
              "      <td>we stayed here for a couple of nights and love...</td>\n",
              "      <td>Cocotinos Sekotong, Boutique Beach Resort &amp; Spa</td>\n",
              "      <td>NTB</td>\n",
              "      <td>Urban</td>\n",
              "      <td>0</td>\n",
              "      <td>0</td>\n",
              "      <td>0</td>\n",
              "      <td>1</td>\n",
              "      <td>0</td>\n",
              "    </tr>\n",
              "    <tr>\n",
              "      <th>6570</th>\n",
              "      <td>5.0</td>\n",
              "      <td>i stayed here for four nights after completing...</td>\n",
              "      <td>Cocotinos Sekotong, Boutique Beach Resort &amp; Spa</td>\n",
              "      <td>NTB</td>\n",
              "      <td>Urban</td>\n",
              "      <td>1</td>\n",
              "      <td>3</td>\n",
              "      <td>0</td>\n",
              "      <td>0</td>\n",
              "      <td>0</td>\n",
              "    </tr>\n",
              "    <tr>\n",
              "      <th>6571</th>\n",
              "      <td>5.0</td>\n",
              "      <td>went on honeymoon to bali and lombok last mont...</td>\n",
              "      <td>Cocotinos Sekotong, Boutique Beach Resort &amp; Spa</td>\n",
              "      <td>NTB</td>\n",
              "      <td>Urban</td>\n",
              "      <td>0</td>\n",
              "      <td>3</td>\n",
              "      <td>0</td>\n",
              "      <td>1</td>\n",
              "      <td>0</td>\n",
              "    </tr>\n",
              "    <tr>\n",
              "      <th>6572</th>\n",
              "      <td>5.0</td>\n",
              "      <td>my sister and i stayed at this resort for  nig...</td>\n",
              "      <td>Cocotinos Sekotong, Boutique Beach Resort &amp; Spa</td>\n",
              "      <td>NTB</td>\n",
              "      <td>Urban</td>\n",
              "      <td>1</td>\n",
              "      <td>1</td>\n",
              "      <td>0</td>\n",
              "      <td>2</td>\n",
              "      <td>0</td>\n",
              "    </tr>\n",
              "  </tbody>\n",
              "</table>\n",
              "<p>6573 rows × 10 columns</p>\n",
              "</div>"
            ],
            "text/plain": [
              "      Rating  ... crowd_predict\n",
              "0        5.0  ...             0\n",
              "1        5.0  ...             0\n",
              "2        5.0  ...             0\n",
              "3        4.0  ...             0\n",
              "4        4.0  ...             0\n",
              "...      ...  ...           ...\n",
              "6568     5.0  ...             0\n",
              "6569     5.0  ...             0\n",
              "6570     5.0  ...             0\n",
              "6571     5.0  ...             0\n",
              "6572     5.0  ...             0\n",
              "\n",
              "[6573 rows x 10 columns]"
            ]
          },
          "metadata": {
            "tags": []
          },
          "execution_count": 26
        }
      ]
    },
    {
      "cell_type": "code",
      "metadata": {
        "id": "F72Ia6Re80-G"
      },
      "source": [
        "all_review.to_csv(\"prediksi6000.csv\")"
      ],
      "execution_count": 27,
      "outputs": []
    }
  ]
}